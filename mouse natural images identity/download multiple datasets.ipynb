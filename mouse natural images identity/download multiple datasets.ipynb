{
 "cells": [
  {
   "cell_type": "code",
   "execution_count": 1,
   "metadata": {
    "collapsed": false
   },
   "outputs": [],
   "source": [
    "\n",
    "from allensdk.core.brain_observatory_cache import BrainObservatoryCache\n",
    "import pprint\n",
    "import allensdk.brain_observatory.stimulus_info as stim_info\n",
    "import numpy as np\n",
    "from __future__ import print_function\n",
    "import h5py\n",
    "from allensdk.brain_observatory.natural_scenes import NaturalScenes\n",
    "import os\n",
    "# This class uses a 'manifest' to keep track of downloaded data and metadata.  \n",
    "# All downloaded files will be stored relative to the directory holding the manifest\n",
    "# file.  If 'manifest_file' is a relative path (as it is below), it will be \n",
    "# saved relative to your working directory.  It can also be an absolute path.\n",
    "boc = BrainObservatoryCache(manifest_file='boc/manifest.json')\n",
    "cwd = os.getcwd()\n"
   ]
  },
  {
   "cell_type": "code",
   "execution_count": null,
   "metadata": {
    "collapsed": false
   },
   "outputs": [],
   "source": [
    "# Download a list of all cre driver lines \n",
    "cre_lines = boc.get_all_cre_lines()\n",
    "print(\"all cre lines: \" + str(cre_lines))\n",
    "\n",
    "targeted_structures = boc.get_all_targeted_structures()\n",
    "print(\"all targeted structures: \" + str(targeted_structures))\n"
   ]
  },
  {
   "cell_type": "code",
   "execution_count": 2,
   "metadata": {
    "collapsed": false
   },
   "outputs": [],
   "source": [
    "areas = ['VISpm','VISal','VISl','VISp']\n",
    "cre_lines = ['Cux2-CreERT2','Rbp4-Cre','Rorb-IRES2-Cre']"
   ]
  },
  {
   "cell_type": "markdown",
   "metadata": {},
   "source": [
    "# get natural scenes dF/F"
   ]
  },
  {
   "cell_type": "code",
   "execution_count": 31,
   "metadata": {
    "collapsed": false,
    "scrolled": true
   },
   "outputs": [
    {
     "name": "stderr",
     "output_type": "stream",
     "text": [
      "WARNING:root:could not find key general/generated_by\n",
      "WARNING:root:could not find key general/generated_by\n",
      "WARNING:root:could not find key general/generated_by\n",
      "WARNING:root:could not find key general/generated_by\n",
      "WARNING:root:could not find key general/generated_by\n",
      "WARNING:root:could not find key general/generated_by\n",
      "WARNING:root:could not find key general/generated_by\n",
      "WARNING:root:could not find key general/generated_by\n",
      "WARNING:root:could not find key general/generated_by\n",
      "WARNING:root:could not find key general/generated_by\n",
      "WARNING:root:could not find key general/generated_by\n",
      "WARNING:root:could not find key general/generated_by\n",
      "WARNING:root:could not find key general/generated_by\n",
      "WARNING:root:could not find key general/generated_by\n",
      "WARNING:root:could not find key general/generated_by\n",
      "WARNING:root:could not find key general/generated_by\n",
      "WARNING:root:could not find key general/generated_by\n",
      "WARNING:root:could not find key general/generated_by\n",
      "WARNING:root:could not find key general/generated_by\n",
      "WARNING:root:could not find key general/generated_by\n",
      "WARNING:root:could not find key general/generated_by\n",
      "WARNING:root:could not find key general/generated_by\n",
      "WARNING:root:could not find key general/generated_by\n",
      "WARNING:root:could not find key general/generated_by\n",
      "WARNING:root:could not find key general/generated_by\n",
      "WARNING:root:could not find key general/generated_by\n",
      "WARNING:root:could not find key general/generated_by\n",
      "WARNING:root:could not find key general/generated_by\n",
      "WARNING:root:could not find key general/generated_by\n",
      "WARNING:root:could not find key general/generated_by\n",
      "WARNING:root:could not find key general/generated_by\n",
      "WARNING:root:could not find key general/generated_by\n",
      "WARNING:root:could not find key general/generated_by\n",
      "WARNING:root:could not find key general/generated_by\n",
      "WARNING:root:could not find key general/generated_by\n",
      "WARNING:root:could not find key general/generated_by\n",
      "WARNING:root:could not find key general/generated_by\n",
      "WARNING:root:could not find key general/generated_by\n"
     ]
    },
    {
     "name": "stdout",
     "output_type": "stream",
     "text": [
      "VISpm: 2157 cells\n",
      "VISal: 2323 cells"
     ]
    },
    {
     "name": "stderr",
     "output_type": "stream",
     "text": [
      "WARNING:root:could not find key general/generated_by\n",
      "WARNING:root:could not find key general/generated_by\n",
      "WARNING:root:could not find key general/generated_by\n",
      "WARNING:root:could not find key general/generated_by\n",
      "WARNING:root:could not find key general/generated_by\n",
      "WARNING:root:could not find key general/generated_by\n",
      "WARNING:root:could not find key general/generated_by\n",
      "WARNING:root:could not find key general/generated_by\n",
      "WARNING:root:could not find key general/generated_by\n",
      "WARNING:root:could not find key general/generated_by\n",
      "WARNING:root:could not find key general/generated_by\n",
      "WARNING:root:could not find key general/generated_by\n",
      "WARNING:root:could not find key general/generated_by\n",
      "WARNING:root:could not find key general/generated_by\n",
      "WARNING:root:could not find key general/generated_by\n",
      "WARNING:root:could not find key general/generated_by\n"
     ]
    },
    {
     "name": "stdout",
     "output_type": "stream",
     "text": [
      "\n",
      "VISl: 2606 cells"
     ]
    },
    {
     "name": "stderr",
     "output_type": "stream",
     "text": [
      "WARNING:root:could not find key general/generated_by\n",
      "WARNING:root:could not find key general/generated_by\n",
      "WARNING:root:could not find key general/generated_by\n",
      "WARNING:root:could not find key general/generated_by\n",
      "WARNING:root:could not find key general/generated_by\n",
      "WARNING:root:could not find key general/generated_by\n",
      "WARNING:root:could not find key general/generated_by\n",
      "WARNING:root:could not find key general/generated_by\n",
      "WARNING:root:could not find key general/generated_by\n",
      "WARNING:root:could not find key general/generated_by\n",
      "WARNING:root:could not find key general/generated_by\n",
      "WARNING:root:could not find key general/generated_by\n",
      "WARNING:root:could not find key general/generated_by\n",
      "WARNING:root:could not find key general/generated_by\n",
      "WARNING:root:could not find key general/generated_by\n",
      "WARNING:root:could not find key general/generated_by\n",
      "WARNING:root:could not find key general/generated_by\n",
      "WARNING:root:could not find key general/generated_by\n",
      "WARNING:root:could not find key general/generated_by\n",
      "WARNING:root:could not find key general/generated_by\n",
      "WARNING:root:could not find key general/generated_by\n"
     ]
    },
    {
     "name": "stdout",
     "output_type": "stream",
     "text": [
      "\n",
      "VISp: 4189 cells\n"
     ]
    }
   ],
   "source": [
    "#save dff traces for cells in given area\n",
    "#get cells and save. \n",
    "#skip if data already saved. \n",
    "\n",
    "areas = ['VISpm','VISal','VISl', 'VISp']\n",
    "interlength = 7 #in frames, 0.25 secs\n",
    "stim_length = 7 #frames, 0.25 secs\n",
    "sweep_length = 2 * interlength + stim_length #in frames, \n",
    "cre_lines = ['Cux2-CreERT2','Rbp4-Cre','Rorb-IRES2-Cre']  #same cre lines shared across all areas\n",
    "\n",
    "for aa in range(len(areas)):\n",
    "    this_area = areas[aa]\n",
    "    X_ALL = []\n",
    "    XT_ALL = []\n",
    "    Y_ALL = []\n",
    "    cells_all = []\n",
    "    total_num_cells = 0\n",
    "    \n",
    "    exps = boc.get_ophys_experiments(targeted_structures=[this_area],stimuli=[stim_info.NATURAL_SCENES],\n",
    "                                     cre_lines=cre_lines)\n",
    "    for ee in range(len(exps)):\n",
    "        exps = boc.get_ophys_experiments(targeted_structures=[this_area],stimuli=[stim_info.NATURAL_SCENES],\n",
    "                                         cre_lines=cre_lines)[ee]\n",
    "        expData = boc.get_ophys_experiment_data(exps['id'])\n",
    "        time,dffTraces = expData.get_dff_traces() #get traces . dffTraces is cells by time\n",
    "\n",
    "        #118 scenes, each scene presented 50 times. there is a scene labeled -1 in stimulus table, must be blank\n",
    "        stim_table = expData.get_stimulus_table('natural_scenes')\n",
    "        scenes = expData.get_stimulus_template('natural_scenes')\n",
    "        sceneIDs = np.unique(stim_table.frame)\n",
    "\n",
    "        cell_ids = expData.get_cell_specimen_ids()\n",
    "        numCells = len(cell_ids)\n",
    "        total_num_cells = numCells + total_num_cells\n",
    "\n",
    "        nTrials = len(stim_table)\n",
    "        y = np.empty((nTrials))\n",
    "        y[:] = np.nan\n",
    "        trials_per_scene = nTrials/len(sceneIDs)\n",
    "        XT_exp = np.empty((nTrials,numCells,sweep_length))\n",
    "        \n",
    "        for scene in sceneIDs:\n",
    "            trial_mask = (stim_table.frame == scene)\n",
    "            this_stim_table = stim_table[trial_mask]\n",
    "            for t in np.arange(1,trials_per_scene+1):\n",
    "                trial = t + (scene + 1) * trials_per_scene - 1\n",
    "                y[trial] = scene + 1\n",
    "                for cell in np.arange(0,numCells):\n",
    "                    stim_on = this_stim_table.start.iloc[t-1] \n",
    "                    start_sweep = stim_on - interlength #start 0.25 secs (7 frames) before stimulus onset\n",
    "                    end_sweep = stim_on + stim_length + interlength #end 0.25 secs (14 frames) after stimulus onset\n",
    "                    trange = np.arange(start_sweep ,end_sweep)\n",
    "                    XT_exp[trial,cell,:] = dffTraces[cell,trange]\n",
    "\n",
    "        #concatenate experiments\n",
    "        if ee == 0:\n",
    "            XT_ALL = XT_exp\n",
    "            Y_ALL = y\n",
    "            cells_all = cell_ids\n",
    "\n",
    "        if ee > 0:\n",
    "            XT_ALL = np.hstack((XT_ALL,XT_exp))\n",
    "            Y_ALL = np.vstack((Y_ALL,y))\n",
    "            cells_all = np.hstack((cells_all,cell_ids))\n",
    "\n",
    "    print(this_area + ': %d cells' %(total_num_cells))\n",
    "    filename = this_area + '_sweeps_data.h5'\n",
    "    \n",
    "    #save arrays X_ALL & XT_ALL -make this into function\n",
    "    with h5py.File(filename,'w') as hf:\n",
    "        hf.create_dataset('X_matrix_time', data=XT_ALL,chunks=True)\n",
    "        hf.create_dataset('Y_matrix', data=Y_ALL,chunks=True)\n",
    "        hf.create_dataset('cell_IDs', data=cells_all,chunks=True)"
   ]
  },
  {
   "cell_type": "code",
   "execution_count": 6,
   "metadata": {
    "collapsed": false
   },
   "outputs": [
    {
     "name": "stderr",
     "output_type": "stream",
     "text": [
      "WARNING:root:could not find key general/generated_by\n",
      "WARNING:root:could not find key general/generated_by\n",
      "WARNING:root:could not find key general/generated_by\n",
      "WARNING:root:could not find key general/generated_by\n",
      "WARNING:root:could not find key general/generated_by\n",
      "WARNING:root:could not find key general/generated_by\n",
      "WARNING:root:could not find key general/generated_by\n",
      "WARNING:root:could not find key general/generated_by\n",
      "WARNING:root:could not find key general/generated_by\n",
      "WARNING:root:could not find key general/generated_by\n",
      "WARNING:root:could not find key general/generated_by\n",
      "WARNING:root:could not find key general/generated_by\n",
      "WARNING:root:could not find key general/generated_by\n",
      "WARNING:root:could not find key general/generated_by\n",
      "WARNING:root:could not find key general/generated_by\n",
      "WARNING:root:could not find key general/generated_by\n",
      "WARNING:root:could not find key general/generated_by\n"
     ]
    },
    {
     "name": "stdout",
     "output_type": "stream",
     "text": [
      "VISpm,  Cux2-CreERT2: 1646 cells\n",
      "VISpm,  Rbp4-Cre: 303 cells"
     ]
    },
    {
     "name": "stderr",
     "output_type": "stream",
     "text": [
      "WARNING:root:could not find key general/generated_by\n",
      "WARNING:root:could not find key general/generated_by\n",
      "WARNING:root:could not find key general/generated_by\n",
      "WARNING:root:could not find key general/generated_by\n"
     ]
    },
    {
     "name": "stdout",
     "output_type": "stream",
     "text": [
      "\n",
      "VISpm,  Rorb-IRES2-Cre: 208 cells"
     ]
    },
    {
     "name": "stderr",
     "output_type": "stream",
     "text": [
      "WARNING:root:could not find key general/generated_by\n",
      "WARNING:root:could not find key general/generated_by\n",
      "WARNING:root:could not find key general/generated_by\n",
      "WARNING:root:could not find key general/generated_by\n",
      "WARNING:root:could not find key general/generated_by\n",
      "WARNING:root:could not find key general/generated_by\n",
      "WARNING:root:could not find key general/generated_by\n",
      "WARNING:root:could not find key general/generated_by\n",
      "WARNING:root:could not find key general/generated_by\n"
     ]
    },
    {
     "name": "stdout",
     "output_type": "stream",
     "text": [
      "\n",
      "VISal,  Cux2-CreERT2: 1380 cells"
     ]
    },
    {
     "name": "stderr",
     "output_type": "stream",
     "text": [
      "WARNING:root:could not find key general/generated_by\n",
      "WARNING:root:could not find key general/generated_by\n",
      "WARNING:root:could not find key general/generated_by\n",
      "WARNING:root:could not find key general/generated_by\n"
     ]
    },
    {
     "name": "stdout",
     "output_type": "stream",
     "text": [
      "\n",
      "VISal,  Rbp4-Cre: 463 cells"
     ]
    },
    {
     "name": "stderr",
     "output_type": "stream",
     "text": [
      "WARNING:root:could not find key general/generated_by\n",
      "WARNING:root:could not find key general/generated_by\n",
      "WARNING:root:could not find key general/generated_by\n",
      "WARNING:root:could not find key general/generated_by\n"
     ]
    },
    {
     "name": "stdout",
     "output_type": "stream",
     "text": [
      "\n",
      "VISal,  Rorb-IRES2-Cre: 480 cells"
     ]
    },
    {
     "name": "stderr",
     "output_type": "stream",
     "text": [
      "WARNING:root:could not find key general/generated_by\n",
      "WARNING:root:could not find key general/generated_by\n",
      "WARNING:root:could not find key general/generated_by\n",
      "WARNING:root:could not find key general/generated_by\n",
      "WARNING:root:could not find key general/generated_by\n",
      "WARNING:root:could not find key general/generated_by\n",
      "WARNING:root:could not find key general/generated_by\n",
      "WARNING:root:could not find key general/generated_by\n"
     ]
    },
    {
     "name": "stdout",
     "output_type": "stream",
     "text": [
      "\n",
      "VISl,  Cux2-CreERT2: 1580 cells"
     ]
    },
    {
     "name": "stderr",
     "output_type": "stream",
     "text": [
      "WARNING:root:could not find key general/generated_by\n",
      "WARNING:root:could not find key general/generated_by\n",
      "WARNING:root:could not find key general/generated_by\n",
      "WARNING:root:could not find key general/generated_by\n"
     ]
    },
    {
     "name": "stdout",
     "output_type": "stream",
     "text": [
      "\n",
      "VISl,  Rbp4-Cre: 496 cells"
     ]
    },
    {
     "name": "stderr",
     "output_type": "stream",
     "text": [
      "WARNING:root:could not find key general/generated_by\n",
      "WARNING:root:could not find key general/generated_by\n",
      "WARNING:root:could not find key general/generated_by\n",
      "WARNING:root:could not find key general/generated_by\n"
     ]
    },
    {
     "name": "stdout",
     "output_type": "stream",
     "text": [
      "\n",
      "VISl,  Rorb-IRES2-Cre: 530 cells"
     ]
    },
    {
     "name": "stderr",
     "output_type": "stream",
     "text": [
      "WARNING:root:could not find key general/generated_by\n",
      "WARNING:root:could not find key general/generated_by\n",
      "WARNING:root:could not find key general/generated_by\n",
      "WARNING:root:could not find key general/generated_by\n",
      "WARNING:root:could not find key general/generated_by\n",
      "WARNING:root:could not find key general/generated_by\n",
      "WARNING:root:could not find key general/generated_by\n",
      "WARNING:root:could not find key general/generated_by\n",
      "WARNING:root:could not find key general/generated_by\n",
      "WARNING:root:could not find key general/generated_by\n",
      "WARNING:root:could not find key general/generated_by\n",
      "WARNING:root:could not find key general/generated_by\n"
     ]
    },
    {
     "name": "stdout",
     "output_type": "stream",
     "text": [
      "\n",
      "VISp,  Cux2-CreERT2: 2802 cells"
     ]
    },
    {
     "name": "stderr",
     "output_type": "stream",
     "text": [
      "WARNING:root:could not find key general/generated_by\n",
      "WARNING:root:could not find key general/generated_by\n",
      "WARNING:root:could not find key general/generated_by\n",
      "WARNING:root:could not find key general/generated_by\n"
     ]
    },
    {
     "name": "stdout",
     "output_type": "stream",
     "text": [
      "\n",
      "VISp,  Rbp4-Cre: 566 cells"
     ]
    },
    {
     "name": "stderr",
     "output_type": "stream",
     "text": [
      "WARNING:root:could not find key general/generated_by\n",
      "WARNING:root:could not find key general/generated_by\n",
      "WARNING:root:could not find key general/generated_by\n",
      "WARNING:root:could not find key general/generated_by\n",
      "WARNING:root:could not find key general/generated_by\n"
     ]
    },
    {
     "name": "stdout",
     "output_type": "stream",
     "text": [
      "\n",
      "VISp,  Rorb-IRES2-Cre: 821 cells\n"
     ]
    }
   ],
   "source": [
    "#save dff traces for cells in given area, for a given cell type\n",
    "#get cells and save. \n",
    "\n",
    "areas = ['VISpm','VISal','VISl', 'VISp']\n",
    "cre_lines = ['Cux2-CreERT2','Rbp4-Cre','Rorb-IRES2-Cre']\n",
    "\n",
    "interlength = 7 #in frames, 0.25 secs\n",
    "stim_length = 7 #frames, 0.25 secs\n",
    "sweep_length = 2*interlength+stim_length #in frames, 1secs\n",
    "\n",
    "for aa in range(len(areas)):\n",
    "    this_area = areas[aa]\n",
    "    \n",
    "    for cc in range(len(cre_lines)):\n",
    "        this_cre_line = cre_lines[cc]\n",
    "        X_ALL = []\n",
    "        XT_ALL = []\n",
    "        Y_ALL = []\n",
    "        cells_all = []\n",
    "        total_num_cells = 0\n",
    "        \n",
    "        exps = boc.get_ophys_experiments(targeted_structures=[this_area],stimuli=[stim_info.NATURAL_SCENES],\n",
    "                                         cre_lines=[this_cre_line],)\n",
    "        num_exps = len(exps)\n",
    "\n",
    "        for ee in range(num_exps):\n",
    "            exps = boc.get_ophys_experiments(targeted_structures=[this_area],stimuli=[stim_info.NATURAL_SCENES],\n",
    "                                             cre_lines=[this_cre_line])[ee]\n",
    "            expData = boc.get_ophys_experiment_data(exps['id'])\n",
    "            time,dffTraces = expData.get_dff_traces() #get traces . dffTraces is cells by time\n",
    "\n",
    "            #118 scenes, each scene presented 50 times. there is a scene labeled -1 in stimulus table, must be blank\n",
    "            stim_table = expData.get_stimulus_table('natural_scenes')\n",
    "            scenes = expData.get_stimulus_template('natural_scenes')\n",
    "            sceneIDs = np.unique(stim_table.frame)\n",
    "            cell_ids = expData.get_cell_specimen_ids()\n",
    "            numCells = len(cell_ids)\n",
    "            total_num_cells = numCells + total_num_cells\n",
    "            nTrials = len(stim_table)\n",
    "            y = np.empty((nTrials))\n",
    "            y[:] = np.nan\n",
    "            trials_per_scene = nTrials/len(sceneIDs)\n",
    "            XT_exp = np.empty((nTrials,numCells,sweep_length))\n",
    "\n",
    "            for scene in sceneIDs:\n",
    "                trial_mask = (stim_table.frame == scene)\n",
    "                this_stim_table = stim_table[trial_mask]\n",
    "                for t in np.arange(1,trials_per_scene+1):\n",
    "                    trial = t + (scene + 1) * trials_per_scene - 1\n",
    "                    y[trial] = scene + 1\n",
    "                    for cell in np.arange(0,numCells):\n",
    "                        stim_on = this_stim_table.start.iloc[t-1] \n",
    "                        start_sweep = stim_on - interlength #start one second (28 frames) before stimulus onset\n",
    "                        end_sweep = stim_on + stim_length + interlength   #end \n",
    "                        trange = np.arange(start_sweep ,end_sweep)\n",
    "                        XT_exp[trial,cell,:] = dffTraces[cell,trange]\n",
    "\n",
    "            #concatenate experiments\n",
    "            if ee == 0:\n",
    "                XT_ALL = XT_exp\n",
    "                Y_ALL = y\n",
    "                cells_all = cell_ids\n",
    "            if ee > 0:\n",
    "                XT_ALL = np.hstack((XT_ALL,XT_exp))\n",
    "                Y_ALL = np.vstack((Y_ALL,y))\n",
    "                cells_all = np.hstack((cells_all,cell_ids))\n",
    "\n",
    "        print(this_area + ',  ' + this_cre_line + ': ' + str(total_num_cells) + ' cells')\n",
    "        filename = this_area +'_'+ this_cre_line + '_sweeps_data.h5'\n",
    "\n",
    "        #save arrays X_ALL & XT_ALL -make this into function\n",
    "        with h5py.File(filename,'w') as hf:\n",
    "            hf.create_dataset('X_matrix_time', data=XT_ALL,chunks=True)\n",
    "            hf.create_dataset('Y_matrix', data=Y_ALL,chunks=True)\n",
    "            hf.create_dataset('cell_IDs', data=cells_all,chunks=True)"
   ]
  },
  {
   "cell_type": "code",
   "execution_count": null,
   "metadata": {
    "collapsed": true
   },
   "outputs": [],
   "source": []
  }
 ],
 "metadata": {
  "kernelspec": {
   "display_name": "Python 2",
   "language": "python",
   "name": "python2"
  },
  "language_info": {
   "codemirror_mode": {
    "name": "ipython",
    "version": 2
   },
   "file_extension": ".py",
   "mimetype": "text/x-python",
   "name": "python",
   "nbconvert_exporter": "python",
   "pygments_lexer": "ipython2",
   "version": "2.7.12"
  }
 },
 "nbformat": 4,
 "nbformat_minor": 0
}
